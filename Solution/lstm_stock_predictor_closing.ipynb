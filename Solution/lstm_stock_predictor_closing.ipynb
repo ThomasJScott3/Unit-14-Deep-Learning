{
 "cells": [
  {
   "cell_type": "markdown",
   "metadata": {},
   "source": [
    "# LSTM Stock Predictor Using Closing Prices\n",
    "\n",
    "In this notebook, you will build and train a custom LSTM RNN that uses a 10 day window of Bitcoin closing prices to predict the 11th day closing price. \n",
    "\n",
    "You will need to:\n",
    "\n",
    "1. Prepare the data for training and testing\n",
    "2. Build and train a custom LSTM RNN\n",
    "3. Evaluate the performance of the model"
   ]
  },
  {
   "cell_type": "markdown",
   "metadata": {},
   "source": [
    "## Data Preparation\n",
    "\n",
    "In this section, you will need to prepare the training and testing data for the model. The model will use a rolling 10 day window to predict the 11th day closing price.\n",
    "\n",
    "You will need to:\n",
    "1. Use the `window_data` function to generate the X and y values for the model.\n",
    "2. Split the data into 70% training and 30% testing\n",
    "3. Apply the MinMaxScaler to the X and y values\n",
    "4. Reshape the X_train and X_test data for the model. Note: The required input format for the LSTM is:\n",
    "\n",
    "```python\n",
    "reshape((X_train.shape[0], X_train.shape[1], 1))\n",
    "```"
   ]
  },
  {
   "cell_type": "code",
   "execution_count": 26,
   "metadata": {},
   "outputs": [],
   "source": [
    "import numpy as np\n",
    "import pandas as pd\n",
    "import hvplot.pandas"
   ]
  },
  {
   "cell_type": "code",
   "execution_count": 27,
   "metadata": {},
   "outputs": [],
   "source": [
    "# Set the random seed for reproducibility\n",
    "# Note: This is for the homework solution, but it is good practice to comment this out and run multiple experiments to evaluate your model\n",
    "from numpy.random import seed\n",
    "seed(1)\n",
    "from tensorflow import random\n",
    "random.set_seed(2)"
   ]
  },
  {
   "cell_type": "code",
   "execution_count": 28,
   "metadata": {},
   "outputs": [
    {
     "data": {
      "text/html": [
       "<div>\n",
       "<style scoped>\n",
       "    .dataframe tbody tr th:only-of-type {\n",
       "        vertical-align: middle;\n",
       "    }\n",
       "\n",
       "    .dataframe tbody tr th {\n",
       "        vertical-align: top;\n",
       "    }\n",
       "\n",
       "    .dataframe thead th {\n",
       "        text-align: right;\n",
       "    }\n",
       "</style>\n",
       "<table border=\"1\" class=\"dataframe\">\n",
       "  <thead>\n",
       "    <tr style=\"text-align: right;\">\n",
       "      <th></th>\n",
       "      <th>fng_value</th>\n",
       "    </tr>\n",
       "    <tr>\n",
       "      <th>date</th>\n",
       "      <th></th>\n",
       "    </tr>\n",
       "  </thead>\n",
       "  <tbody>\n",
       "    <tr>\n",
       "      <th>2019-07-29</th>\n",
       "      <td>19</td>\n",
       "    </tr>\n",
       "    <tr>\n",
       "      <th>2019-07-28</th>\n",
       "      <td>16</td>\n",
       "    </tr>\n",
       "    <tr>\n",
       "      <th>2019-07-27</th>\n",
       "      <td>47</td>\n",
       "    </tr>\n",
       "    <tr>\n",
       "      <th>2019-07-26</th>\n",
       "      <td>24</td>\n",
       "    </tr>\n",
       "    <tr>\n",
       "      <th>2019-07-25</th>\n",
       "      <td>42</td>\n",
       "    </tr>\n",
       "  </tbody>\n",
       "</table>\n",
       "</div>"
      ],
      "text/plain": [
       "             fng_value\n",
       "date                  \n",
       "2019-07-29          19\n",
       "2019-07-28          16\n",
       "2019-07-27          47\n",
       "2019-07-26          24\n",
       "2019-07-25          42"
      ]
     },
     "execution_count": 28,
     "metadata": {},
     "output_type": "execute_result"
    }
   ],
   "source": [
    "# Load the fear and greed sentiment data for Bitcoin\n",
    "df = pd.read_csv('btc_sentiment.csv', index_col=\"date\", infer_datetime_format=True, parse_dates=True)\n",
    "df = df.drop(columns=\"fng_classification\")\n",
    "df.head()"
   ]
  },
  {
   "cell_type": "code",
   "execution_count": 29,
   "metadata": {},
   "outputs": [
    {
     "data": {
      "text/plain": [
       "Date\n",
       "2019-07-25    9882.429688\n",
       "2019-07-26    9847.450195\n",
       "2019-07-27    9478.320313\n",
       "2019-07-28    9531.769531\n",
       "2019-07-29    9529.889648\n",
       "Name: Close, dtype: float64"
      ]
     },
     "execution_count": 29,
     "metadata": {},
     "output_type": "execute_result"
    }
   ],
   "source": [
    "# Load the historical closing prices for Bitcoin\n",
    "df2 = pd.read_csv('btc_historic.csv', index_col=\"Date\", infer_datetime_format=True, parse_dates=True)['Close']\n",
    "df2 = df2.sort_index()\n",
    "df2.tail()"
   ]
  },
  {
   "cell_type": "code",
   "execution_count": 30,
   "metadata": {},
   "outputs": [
    {
     "data": {
      "text/html": [
       "<div>\n",
       "<style scoped>\n",
       "    .dataframe tbody tr th:only-of-type {\n",
       "        vertical-align: middle;\n",
       "    }\n",
       "\n",
       "    .dataframe tbody tr th {\n",
       "        vertical-align: top;\n",
       "    }\n",
       "\n",
       "    .dataframe thead th {\n",
       "        text-align: right;\n",
       "    }\n",
       "</style>\n",
       "<table border=\"1\" class=\"dataframe\">\n",
       "  <thead>\n",
       "    <tr style=\"text-align: right;\">\n",
       "      <th></th>\n",
       "      <th>fng_value</th>\n",
       "      <th>Close</th>\n",
       "    </tr>\n",
       "  </thead>\n",
       "  <tbody>\n",
       "    <tr>\n",
       "      <th>2019-07-25</th>\n",
       "      <td>42</td>\n",
       "      <td>9882.429688</td>\n",
       "    </tr>\n",
       "    <tr>\n",
       "      <th>2019-07-26</th>\n",
       "      <td>24</td>\n",
       "      <td>9847.450195</td>\n",
       "    </tr>\n",
       "    <tr>\n",
       "      <th>2019-07-27</th>\n",
       "      <td>47</td>\n",
       "      <td>9478.320313</td>\n",
       "    </tr>\n",
       "    <tr>\n",
       "      <th>2019-07-28</th>\n",
       "      <td>16</td>\n",
       "      <td>9531.769531</td>\n",
       "    </tr>\n",
       "    <tr>\n",
       "      <th>2019-07-29</th>\n",
       "      <td>19</td>\n",
       "      <td>9529.889648</td>\n",
       "    </tr>\n",
       "  </tbody>\n",
       "</table>\n",
       "</div>"
      ],
      "text/plain": [
       "             fng_value        Close\n",
       "2019-07-25          42  9882.429688\n",
       "2019-07-26          24  9847.450195\n",
       "2019-07-27          47  9478.320313\n",
       "2019-07-28          16  9531.769531\n",
       "2019-07-29          19  9529.889648"
      ]
     },
     "execution_count": 30,
     "metadata": {},
     "output_type": "execute_result"
    }
   ],
   "source": [
    "# Join the data into a single DataFrame\n",
    "df = df.join(df2, how=\"inner\")\n",
    "df.tail()"
   ]
  },
  {
   "cell_type": "code",
   "execution_count": 31,
   "metadata": {},
   "outputs": [
    {
     "data": {
      "text/html": [
       "<div>\n",
       "<style scoped>\n",
       "    .dataframe tbody tr th:only-of-type {\n",
       "        vertical-align: middle;\n",
       "    }\n",
       "\n",
       "    .dataframe tbody tr th {\n",
       "        vertical-align: top;\n",
       "    }\n",
       "\n",
       "    .dataframe thead th {\n",
       "        text-align: right;\n",
       "    }\n",
       "</style>\n",
       "<table border=\"1\" class=\"dataframe\">\n",
       "  <thead>\n",
       "    <tr style=\"text-align: right;\">\n",
       "      <th></th>\n",
       "      <th>fng_value</th>\n",
       "      <th>Close</th>\n",
       "    </tr>\n",
       "  </thead>\n",
       "  <tbody>\n",
       "    <tr>\n",
       "      <th>2018-02-01</th>\n",
       "      <td>30</td>\n",
       "      <td>9114.719727</td>\n",
       "    </tr>\n",
       "    <tr>\n",
       "      <th>2018-02-02</th>\n",
       "      <td>15</td>\n",
       "      <td>8870.820313</td>\n",
       "    </tr>\n",
       "    <tr>\n",
       "      <th>2018-02-03</th>\n",
       "      <td>40</td>\n",
       "      <td>9251.269531</td>\n",
       "    </tr>\n",
       "    <tr>\n",
       "      <th>2018-02-04</th>\n",
       "      <td>24</td>\n",
       "      <td>8218.049805</td>\n",
       "    </tr>\n",
       "    <tr>\n",
       "      <th>2018-02-05</th>\n",
       "      <td>11</td>\n",
       "      <td>6937.080078</td>\n",
       "    </tr>\n",
       "  </tbody>\n",
       "</table>\n",
       "</div>"
      ],
      "text/plain": [
       "             fng_value        Close\n",
       "2018-02-01          30  9114.719727\n",
       "2018-02-02          15  8870.820313\n",
       "2018-02-03          40  9251.269531\n",
       "2018-02-04          24  8218.049805\n",
       "2018-02-05          11  6937.080078"
      ]
     },
     "execution_count": 31,
     "metadata": {},
     "output_type": "execute_result"
    }
   ],
   "source": [
    "df.head()"
   ]
  },
  {
   "cell_type": "code",
   "execution_count": 32,
   "metadata": {},
   "outputs": [],
   "source": [
    "# This function accepts the column number for the features (X) and the target (y)\n",
    "# It chunks the data up with a rolling window of Xt-n to predict Xt\n",
    "# It returns a numpy array of X any y\n",
    "def window_data(df, window, feature_col_number, target_col_number):\n",
    "    X = []\n",
    "    y = []\n",
    "    for i in range(len(df) - window - 1):\n",
    "        features = df.iloc[i:(i + window), feature_col_number]\n",
    "        target = df.iloc[(i + window), target_col_number]\n",
    "        X.append(features)\n",
    "        y.append(target)\n",
    "    return np.array(X), np.array(y).reshape(-1, 1)"
   ]
  },
  {
   "cell_type": "code",
   "execution_count": 33,
   "metadata": {},
   "outputs": [],
   "source": [
    "# Predict Closing Prices using a 10 day window of previous closing prices\n",
    "# Then, experiment with window sizes anywhere from 1 to 10 and see how the model performance changes\n",
    "window_size = 10\n",
    "\n",
    "# Column index 0 is the 'fng_value' column\n",
    "# Column index 1 is the `Close` column\n",
    "feature_column = 1\n",
    "target_column = 1\n",
    "X, y = window_data(df, window_size, feature_column, target_column)"
   ]
  },
  {
   "cell_type": "code",
   "execution_count": 34,
   "metadata": {},
   "outputs": [],
   "source": [
    "# Use 70% of the data for training and the remaineder for testing\n",
    "\n",
    "# Return an int value that is 70% the length of the X dataset\n",
    "percentile = int(0.7 * len(X))\n",
    "\n",
    "# Create the X_train data using percentile as a benchmark\n",
    "X_train = X[: percentile - 1]\n",
    "\n",
    "# Create the X_test data using percentile as a demarkation point\n",
    "X_test = X[percentile:]\n",
    "\n",
    "# Create the y_train data using percentile as a benchmark (same as above)\n",
    "y_train = y[: percentile - 1]\n",
    "\n",
    "# Create the y_test data using percentile as a demarkation point (same as above)\n",
    "y_test = y[percentile:]"
   ]
  },
  {
   "cell_type": "code",
   "execution_count": 35,
   "metadata": {},
   "outputs": [],
   "source": [
    "from sklearn.preprocessing import MinMaxScaler\n",
    "# Use the MinMaxScaler to scale data between 0 and 1.\n",
    "\n",
    "# Instantantiate MinMaxScaler and assign it to a variable\n",
    "scaler = MinMaxScaler()\n",
    "\n",
    "# Fit X using MinMaxScaler\n",
    "scaler.fit(X)\n",
    "\n",
    "# Tranform X_train\n",
    "X_train = scaler.transform(X_train)\n",
    "\n",
    "# Transform X_test\n",
    "X_test = scaler.transform(X_test)\n",
    "\n",
    "# Fit Y using MinMaxScaler\n",
    "scaler.fit(y)\n",
    "\n",
    "# Tranform y_train\n",
    "y_train = scaler.transform(y_train)\n",
    "\n",
    "# Transform y_test\n",
    "y_test = scaler.transform(y_test)"
   ]
  },
  {
   "cell_type": "code",
   "execution_count": 36,
   "metadata": {},
   "outputs": [],
   "source": [
    "# Reshape the features for the model\n",
    "\n",
    "#Reshape X_train\n",
    "X_train = X_train.reshape(\n",
    "    (X_train.shape[0], \n",
    "     X_train.shape[1],\n",
    "     1)\n",
    ")\n",
    "\n",
    "#Reshape X_test\n",
    "X_test = X_test.reshape(\n",
    "    (X_test.shape[0],\n",
    "     X_test.shape[1],\n",
    "     1)\n",
    ")"
   ]
  },
  {
   "cell_type": "markdown",
   "metadata": {},
   "source": [
    "---"
   ]
  },
  {
   "cell_type": "markdown",
   "metadata": {},
   "source": [
    "## Build and Train the LSTM RNN\n",
    "\n",
    "In this section, you will design a custom LSTM RNN and fit (train) it using the training data.\n",
    "\n",
    "You will need to:\n",
    "1. Define the model architecture\n",
    "2. Compile the model\n",
    "3. Fit the model to the training data\n",
    "\n",
    "### Hints:\n",
    "You will want to use the same model architecture and random seed for both notebooks. This is necessary to accurately compare the performance of the FNG model vs the closing price model. "
   ]
  },
  {
   "cell_type": "code",
   "execution_count": 37,
   "metadata": {},
   "outputs": [],
   "source": [
    "from tensorflow.keras.models import Sequential\n",
    "from tensorflow.keras.layers import LSTM, Dense, Dropout"
   ]
  },
  {
   "cell_type": "code",
   "execution_count": 38,
   "metadata": {},
   "outputs": [],
   "source": [
    "# Build the LSTM model. \n",
    "# The return sequences need to be set to True if you are adding additional LSTM layers, but \n",
    "# You don't have to do this for the final layer. \n",
    "# Note: The dropouts help prevent overfitting\n",
    "# Note: The input shape is the number of time steps and the number of indicators\n",
    "# Note: Batching inputs has a different input shape of Samples/TimeSteps/Features\n",
    "\n",
    "# Instantantiate Sequential and assign it to a variable\n",
    "sequence = Sequential()\n",
    "\n",
    "# Define the number of steps in the LSTM sequence/ model\n",
    "number_of_units = 30\n",
    "\n",
    "# Define the rate at which dropouts will occur\n",
    "dropout_ratio = 0.2\n",
    "\n",
    "# Add the first layer\n",
    "sequence.add(LSTM(\n",
    "    units = number_of_units,\n",
    "    return_sequences = True,\n",
    "    input_shape = (X_train.shape[1],1)\n",
    ")\n",
    "            )\n",
    "\n",
    "# Add the dropout layer\n",
    "sequence.add(Dropout(dropout_ratio))\n",
    "\n",
    "# Add the second layer\n",
    "sequence.add(LSTM(\n",
    "    units = number_of_units,\n",
    "    return_sequences = True,\n",
    "        )\n",
    "            )\n",
    "\n",
    "# Add the dropout layer\n",
    "sequence.add(Dropout(dropout_ratio))\n",
    "\n",
    "# Add the third layer\n",
    "sequence.add(LSTM(\n",
    "    units = number_of_units,\n",
    "    return_sequences = False,\n",
    "        )\n",
    "            )\n",
    "\n",
    "# Add the dropout layer\n",
    "sequence.add(Dropout(dropout_ratio))\n",
    "\n",
    "# Add the density node/ layer\n",
    "sequence.add(Dense(1))"
   ]
  },
  {
   "cell_type": "code",
   "execution_count": 39,
   "metadata": {},
   "outputs": [],
   "source": [
    "# Compile the model\n",
    "\n",
    "sequence.compile(optimizer=\"adam\", loss=\"mean_squared_error\")"
   ]
  },
  {
   "cell_type": "code",
   "execution_count": 40,
   "metadata": {},
   "outputs": [
    {
     "name": "stdout",
     "output_type": "stream",
     "text": [
      "Model: \"sequential_1\"\n",
      "_________________________________________________________________\n",
      "Layer (type)                 Output Shape              Param #   \n",
      "=================================================================\n",
      "lstm_3 (LSTM)                (None, 10, 30)            3840      \n",
      "_________________________________________________________________\n",
      "dropout_3 (Dropout)          (None, 10, 30)            0         \n",
      "_________________________________________________________________\n",
      "lstm_4 (LSTM)                (None, 10, 30)            7320      \n",
      "_________________________________________________________________\n",
      "dropout_4 (Dropout)          (None, 10, 30)            0         \n",
      "_________________________________________________________________\n",
      "lstm_5 (LSTM)                (None, 30)                7320      \n",
      "_________________________________________________________________\n",
      "dropout_5 (Dropout)          (None, 30)                0         \n",
      "_________________________________________________________________\n",
      "dense_1 (Dense)              (None, 1)                 31        \n",
      "=================================================================\n",
      "Total params: 18,511\n",
      "Trainable params: 18,511\n",
      "Non-trainable params: 0\n",
      "_________________________________________________________________\n"
     ]
    }
   ],
   "source": [
    "# Summarize the model\n",
    "\n",
    "sequence.summary()"
   ]
  },
  {
   "cell_type": "code",
   "execution_count": 41,
   "metadata": {},
   "outputs": [
    {
     "name": "stdout",
     "output_type": "stream",
     "text": [
      "Epoch 1/50\n",
      "38/38 [==============================] - 36s 33ms/step - loss: 0.0753\n",
      "Epoch 2/50\n",
      "38/38 [==============================] - 1s 27ms/step - loss: 0.0334\n",
      "Epoch 3/50\n",
      "38/38 [==============================] - 1s 27ms/step - loss: 0.0201\n",
      "Epoch 4/50\n",
      "38/38 [==============================] - 1s 27ms/step - loss: 0.0133\n",
      "Epoch 5/50\n",
      "38/38 [==============================] - 1s 29ms/step - loss: 0.0105\n",
      "Epoch 6/50\n",
      "38/38 [==============================] - 1s 27ms/step - loss: 0.0076\n",
      "Epoch 7/50\n",
      "38/38 [==============================] - 1s 28ms/step - loss: 0.0078: 0s - loss: 0.0\n",
      "Epoch 8/50\n",
      "38/38 [==============================] - 1s 30ms/step - loss: 0.0080: 0s - loss:\n",
      "Epoch 9/50\n",
      "38/38 [==============================] - 1s 31ms/step - loss: 0.0075\n",
      "Epoch 10/50\n",
      "38/38 [==============================] - 1s 32ms/step - loss: 0.0072\n",
      "Epoch 11/50\n",
      "38/38 [==============================] - 1s 29ms/step - loss: 0.0082\n",
      "Epoch 12/50\n",
      "38/38 [==============================] - 1s 28ms/step - loss: 0.0066\n",
      "Epoch 13/50\n",
      "38/38 [==============================] - 1s 29ms/step - loss: 0.0075\n",
      "Epoch 14/50\n",
      "38/38 [==============================] - 1s 28ms/step - loss: 0.0070\n",
      "Epoch 15/50\n",
      "38/38 [==============================] - 1s 27ms/step - loss: 0.0081\n",
      "Epoch 16/50\n",
      "38/38 [==============================] - 1s 27ms/step - loss: 0.0081\n",
      "Epoch 17/50\n",
      "38/38 [==============================] - 1s 27ms/step - loss: 0.0072\n",
      "Epoch 18/50\n",
      "38/38 [==============================] - 1s 27ms/step - loss: 0.0076\n",
      "Epoch 19/50\n",
      "38/38 [==============================] - 1s 38ms/step - loss: 0.0084\n",
      "Epoch 20/50\n",
      "38/38 [==============================] - 1s 37ms/step - loss: 0.0072\n",
      "Epoch 21/50\n",
      "38/38 [==============================] - 1s 37ms/step - loss: 0.0075\n",
      "Epoch 22/50\n",
      "38/38 [==============================] - 1s 37ms/step - loss: 0.0077\n",
      "Epoch 23/50\n",
      "38/38 [==============================] - 1s 36ms/step - loss: 0.0072\n",
      "Epoch 24/50\n",
      "38/38 [==============================] - 1s 38ms/step - loss: 0.0072\n",
      "Epoch 25/50\n",
      "38/38 [==============================] - 2s 43ms/step - loss: 0.0071\n",
      "Epoch 26/50\n",
      "38/38 [==============================] - 1s 36ms/step - loss: 0.0064\n",
      "Epoch 27/50\n",
      "38/38 [==============================] - 1s 35ms/step - loss: 0.0077\n",
      "Epoch 28/50\n",
      "38/38 [==============================] - 1s 35ms/step - loss: 0.0064\n",
      "Epoch 29/50\n",
      "38/38 [==============================] - 1s 39ms/step - loss: 0.0060\n",
      "Epoch 30/50\n",
      "38/38 [==============================] - 1s 36ms/step - loss: 0.0065\n",
      "Epoch 31/50\n",
      "38/38 [==============================] - 1s 36ms/step - loss: 0.0073\n",
      "Epoch 32/50\n",
      "38/38 [==============================] - 1s 35ms/step - loss: 0.0061\n",
      "Epoch 33/50\n",
      "38/38 [==============================] - 1s 36ms/step - loss: 0.0067\n",
      "Epoch 34/50\n",
      "38/38 [==============================] - 1s 36ms/step - loss: 0.0062\n",
      "Epoch 35/50\n",
      "38/38 [==============================] - 1s 38ms/step - loss: 0.0061\n",
      "Epoch 36/50\n",
      "38/38 [==============================] - 1s 37ms/step - loss: 0.0057\n",
      "Epoch 37/50\n",
      "38/38 [==============================] - 1s 35ms/step - loss: 0.0058\n",
      "Epoch 38/50\n",
      "38/38 [==============================] - 1s 35ms/step - loss: 0.0046\n",
      "Epoch 39/50\n",
      "38/38 [==============================] - 1s 35ms/step - loss: 0.0054\n",
      "Epoch 40/50\n",
      "38/38 [==============================] - 1s 35ms/step - loss: 0.0053\n",
      "Epoch 41/50\n",
      "38/38 [==============================] - 1s 39ms/step - loss: 0.0050\n",
      "Epoch 42/50\n",
      "38/38 [==============================] - 1s 36ms/step - loss: 0.0047\n",
      "Epoch 43/50\n",
      "38/38 [==============================] - 1s 37ms/step - loss: 0.0054\n",
      "Epoch 44/50\n",
      "38/38 [==============================] - 1s 33ms/step - loss: 0.0051\n",
      "Epoch 45/50\n",
      "38/38 [==============================] - 1s 36ms/step - loss: 0.0057\n",
      "Epoch 46/50\n",
      "38/38 [==============================] - 1s 34ms/step - loss: 0.0050\n",
      "Epoch 47/50\n",
      "38/38 [==============================] - 1s 34ms/step - loss: 0.0068\n",
      "Epoch 48/50\n",
      "38/38 [==============================] - 1s 36ms/step - loss: 0.0041\n",
      "Epoch 49/50\n",
      "38/38 [==============================] - 1s 35ms/step - loss: 0.0054\n",
      "Epoch 50/50\n",
      "38/38 [==============================] - 1s 36ms/step - loss: 0.0042\n"
     ]
    },
    {
     "data": {
      "text/plain": [
       "<tensorflow.python.keras.callbacks.History at 0x27b88c7a580>"
      ]
     },
     "execution_count": 41,
     "metadata": {},
     "output_type": "execute_result"
    }
   ],
   "source": [
    "# Train the model\n",
    "# Use at least 10 epochs\n",
    "# Do not shuffle the data\n",
    "# Experiement with the batch size, but a smaller batch size is recommended\n",
    "\n",
    "sequence.fit(X_train, y_train, epochs = 50, shuffle = False, batch_size = 10, verbose=1)"
   ]
  },
  {
   "cell_type": "markdown",
   "metadata": {},
   "source": [
    "---"
   ]
  },
  {
   "cell_type": "markdown",
   "metadata": {},
   "source": [
    "## Model Performance\n",
    "\n",
    "In this section, you will evaluate the model using the test data. \n",
    "\n",
    "You will need to:\n",
    "1. Evaluate the model using the `X_test` and `y_test` data.\n",
    "2. Use the X_test data to make predictions\n",
    "3. Create a DataFrame of Real (y_test) vs predicted values. \n",
    "4. Plot the Real vs predicted values as a line chart\n",
    "\n",
    "### Hints\n",
    "Remember to apply the `inverse_transform` function to the predicted and y_test values to recover the actual closing prices."
   ]
  },
  {
   "cell_type": "code",
   "execution_count": 42,
   "metadata": {},
   "outputs": [
    {
     "name": "stdout",
     "output_type": "stream",
     "text": [
      "5/5 [==============================] - 13s 10ms/step - loss: 0.0146\n"
     ]
    },
    {
     "data": {
      "text/plain": [
       "0.014588778838515282"
      ]
     },
     "execution_count": 42,
     "metadata": {},
     "output_type": "execute_result"
    }
   ],
   "source": [
    "# Evaluate the model\n",
    "\n",
    "sequence.evaluate(X_test, y_test)"
   ]
  },
  {
   "cell_type": "code",
   "execution_count": 43,
   "metadata": {},
   "outputs": [],
   "source": [
    "# Make some predictions\n",
    "\n",
    "prediction = sequence.predict(X_test)"
   ]
  },
  {
   "cell_type": "code",
   "execution_count": 44,
   "metadata": {},
   "outputs": [],
   "source": [
    "# Recover the original prices instead of the scaled version\n",
    "price_prediction = scaler.inverse_transform(predicted)\n",
    "\n",
    "real_prices = scaler.inverse_transform(y_test.reshape(-1, 1))"
   ]
  },
  {
   "cell_type": "code",
   "execution_count": 45,
   "metadata": {},
   "outputs": [
    {
     "data": {
      "text/html": [
       "<div>\n",
       "<style scoped>\n",
       "    .dataframe tbody tr th:only-of-type {\n",
       "        vertical-align: middle;\n",
       "    }\n",
       "\n",
       "    .dataframe tbody tr th {\n",
       "        vertical-align: top;\n",
       "    }\n",
       "\n",
       "    .dataframe thead th {\n",
       "        text-align: right;\n",
       "    }\n",
       "</style>\n",
       "<table border=\"1\" class=\"dataframe\">\n",
       "  <thead>\n",
       "    <tr style=\"text-align: right;\">\n",
       "      <th></th>\n",
       "      <th>Real</th>\n",
       "      <th>Predicted</th>\n",
       "    </tr>\n",
       "  </thead>\n",
       "  <tbody>\n",
       "    <tr>\n",
       "      <th>2019-02-20</th>\n",
       "      <td>3924.239990</td>\n",
       "      <td>3556.370361</td>\n",
       "    </tr>\n",
       "    <tr>\n",
       "      <th>2019-02-21</th>\n",
       "      <td>3974.050049</td>\n",
       "      <td>3594.429199</td>\n",
       "    </tr>\n",
       "    <tr>\n",
       "      <th>2019-02-22</th>\n",
       "      <td>3937.040039</td>\n",
       "      <td>3643.825195</td>\n",
       "    </tr>\n",
       "    <tr>\n",
       "      <th>2019-02-23</th>\n",
       "      <td>3983.530029</td>\n",
       "      <td>3693.623535</td>\n",
       "    </tr>\n",
       "    <tr>\n",
       "      <th>2019-02-24</th>\n",
       "      <td>4149.089844</td>\n",
       "      <td>3739.557129</td>\n",
       "    </tr>\n",
       "  </tbody>\n",
       "</table>\n",
       "</div>"
      ],
      "text/plain": [
       "                   Real    Predicted\n",
       "2019-02-20  3924.239990  3556.370361\n",
       "2019-02-21  3974.050049  3594.429199\n",
       "2019-02-22  3937.040039  3643.825195\n",
       "2019-02-23  3983.530029  3693.623535\n",
       "2019-02-24  4149.089844  3739.557129"
      ]
     },
     "execution_count": 45,
     "metadata": {},
     "output_type": "execute_result"
    }
   ],
   "source": [
    "# Create a DataFrame of Real and Predicted values\n",
    "stock_prices = pd.DataFrame({\n",
    "    \"Real Price\": real_prices.ravel(),\n",
    "    \"Predicted Price\": price_prediction.ravel()\n",
    "}, index = df.index[-len(real_prices): ]) \n",
    "stocks.head()"
   ]
  },
  {
   "cell_type": "code",
   "execution_count": 46,
   "metadata": {},
   "outputs": [
    {
     "data": {
      "text/plain": [
       "<AxesSubplot:>"
      ]
     },
     "execution_count": 46,
     "metadata": {},
     "output_type": "execute_result"
    },
    {
     "data": {
      "image/png": "[encoded data removed]",
      "text/plain": [
       "<Figure size 432x288 with 1 Axes>"
      ]
     },
     "metadata": {
      "needs_background": "light"
     },
     "output_type": "display_data"
    }
   ],
   "source": [
    "# Plot the real vs predicted values as a line chart\n",
    "stock_prices.plot.line()"
   ]
  },
  {
   "cell_type": "code",
   "execution_count": 48,
   "metadata": {},
   "outputs": [
    {
     "data": {
      "image/png": "[encoded data removed]",
      "text/plain": [
       "<Figure size 432x288 with 1 Axes>"
      ]
     },
     "metadata": {
      "needs_background": "light"
     },
     "output_type": "display_data"
    }
   ],
   "source": [
    "# I wanted a second look at the data so I used pyplot to display the results again\n",
    "\n",
    "import matplotlib.pyplot as plt\n",
    "\n",
    "plt.plot(price_prediction,color='red', label='Predicted Price')\n",
    "\n",
    "plt.plot(real_prices,color='blue', label='Real Price')\n",
    "\n",
    "plt.legend(loc='upper left')\n",
    "\n",
    "plt.show()"
   ]
  },
  {
   "cell_type": "code",
   "execution_count": null,
   "metadata": {},
   "outputs": [],
   "source": []
  }
 ],
 "metadata": {
  "file_extension": ".py",
  "kernelspec": {
   "display_name": "Python 3",
   "language": "python",
   "name": "python3"
  },
  "language_info": {
   "codemirror_mode": {
    "name": "ipython",
    "version": 3
   },
   "file_extension": ".py",
   "mimetype": "text/x-python",
   "name": "python",
   "nbconvert_exporter": "python",
   "pygments_lexer": "ipython3",
   "version": "3.8.5"
  },
  "mimetype": "text/x-python",
  "name": "python",
  "npconvert_exporter": "python",
  "pygments_lexer": "ipython3",
  "version": 3
 },
 "nbformat": 4,
 "nbformat_minor": 4
}
